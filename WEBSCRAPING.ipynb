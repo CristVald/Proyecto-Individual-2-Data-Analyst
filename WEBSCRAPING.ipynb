{
 "cells": [
  {
   "cell_type": "markdown",
   "metadata": {},
   "source": [
    "## Webscraping de la población de CABA\n",
    "\n",
    "Con el fin de desarrollar uno de los indicadores clave de rendimiento (KPI) para el proyecto, se requiere obtener la población de la Ciudad Autónoma de Buenos Aires. Para llevar a cabo esta tarea, se ha optado por emplear la técnica de web scraping, la cual implica acceder a una página web, examinar su código HTML y extraer de manera automatizada la información pertinente.\n",
    "\n",
    "A continuación, se describen los pasos que se han seguido para este proceso."
   ]
  },
  {
   "cell_type": "code",
   "execution_count": 22,
   "metadata": {},
   "outputs": [],
   "source": [
    "import pandas as pd\n",
    "import tools\n",
    "import requests\n",
    "from bs4 import BeautifulSoup\n"
   ]
  },
  {
   "cell_type": "markdown",
   "metadata": {},
   "source": [
    "### Extracción de datos\n",
    "\n",
    "Se especifica la dirección URL de la página de Wikipedia que alberga la tabla que presenta la información sobre la población recopilada en los censos más recientes.\n"
   ]
  },
  {
   "cell_type": "code",
   "execution_count": 11,
   "metadata": {},
   "outputs": [],
   "source": [
    "link = \"https://es.wikipedia.org/wiki/Buenos_Aires\""
   ]
  },
  {
   "cell_type": "markdown",
   "metadata": {},
   "source": [
    "\n",
    "Se envía una solicitud HTTP para obtener el contenido de la página.\n"
   ]
  },
  {
   "cell_type": "code",
   "execution_count": 23,
   "metadata": {},
   "outputs": [],
   "source": [
    "respuesta = requests.get(link)"
   ]
  },
  {
   "cell_type": "markdown",
   "metadata": {},
   "source": [
    "Se crea un objeto BeautifulSoup para analizar el contenido HTML de la página."
   ]
  },
  {
   "cell_type": "code",
   "execution_count": 24,
   "metadata": {},
   "outputs": [],
   "source": [
    "objeto_soup = BeautifulSoup(respuesta.text, \"html.parser\")"
   ]
  },
  {
   "cell_type": "markdown",
   "metadata": {},
   "source": [
    "Se procedió a examinar detenidamente la página que alberga la información con el objetivo de comprender la estructura de las etiquetas que conducen hasta los datos.\n",
    "\n",
    "<img src=\"población - webscraping.jpg\">\n",
    "\n",
    "Se observó que la tabla de interés está encapsulada en una etiqueta \"table\", pero dado que existen múltiples instancias de estas etiquetas en la página, se decidió realizar una iteración por todas las etiquetas \"table\". Durante este proceso, se identifica un encabezado \"th\" que posee los atributos colspan='3' y class='navbox-title'.\n",
    "\n",
    "Posteriormente, se verifica si este encabezado corresponde a la tabla buscada, en este caso, \"Población histórica\". En caso afirmativo, se procede a extraer la información de la tabla y almacenarla en una variable denominada target. Este enfoque permite localizar de manera precisa la tabla de interés dentro de la estructura más amplia de la página web.\n",
    "\n",
    "\n",
    "\n",
    "\n"
   ]
  },
  {
   "cell_type": "code",
   "execution_count": 29,
   "metadata": {},
   "outputs": [],
   "source": [
    "# Se inicializa una variable llamada target_table como None\n",
    "target_table = None\n",
    "\n",
    "# Se buscan todas las etiquetas de tabla (<table>) en el contenido HTML\n",
    "tables = objeto_soup.find_all('table')\n",
    "\n",
    "# Se itera a través de todas las tablas encontradas en la página web\n",
    "for table in tables:\n",
    "    # Se busca una etiqueta de encabezado (<th>) dentro de la tabla que tenga los atributos colspan='3' y class='navbox-title'\n",
    "    header = table.find('th', {'colspan': '3', 'class': 'navbox-title'})\n",
    "    \n",
    "    # Se comprueba si se encontró un encabezado y si el texto del encabezado contiene \"Población histórica\"\n",
    "    if header and \"Población histórica\" in header.text:\n",
    "        # Si se cumple la condición anterior, asigna la tabla actual a la variable target_table y sale del bucle for con break\n",
    "        target_table = table\n",
    "        break"
   ]
  },
  {
   "cell_type": "markdown",
   "metadata": {},
   "source": [
    "En la siguiente celda, se observa la información extraída."
   ]
  },
  {
   "cell_type": "code",
   "execution_count": 30,
   "metadata": {},
   "outputs": [
    {
     "data": {
      "text/plain": [
       "<table class=\"toccolours\" style=\"width:15em;border-spacing: 0;float:right;clear:right;margin:0 0 1em 1em;\"><tbody><tr><th class=\"navbox-title\" colspan=\"3\" style=\"padding:0.25em;font-size:110%\">Población histórica</th></tr><tr style=\"font-size:95%\"><th style=\"border-bottom:1px solid black;padding:1px;width:3em\">Año</th><th style=\"border-bottom:1px solid black;padding:1px 2px;text-align:right\"><abbr title=\"Población\">Pob.</abbr></th><th style=\"border-bottom:1px solid black;padding:1px;text-align:right\"><abbr title=\"Cambio porcentual\">±%</abbr></th></tr><tr><th style=\"text-align:center;padding:1px\">1779 </th><td style=\"text-align:right;padding:1px\">24 205</td><td style=\"text-align:right;padding:1px\">—    </td></tr><tr><th style=\"text-align:center;padding:1px\">1810 </th><td style=\"text-align:right;padding:1px\">44 800</td><td style=\"text-align:right;padding:1px\">+85.1%</td></tr><tr><th style=\"text-align:center;padding:1px\">1869 </th><td style=\"text-align:right;padding:1px\">177 797</td><td style=\"text-align:right;padding:1px\">+296.9%</td></tr><tr><th style=\"text-align:center;padding:1px\">1895 </th><td style=\"text-align:right;padding:1px\">663 854</td><td style=\"text-align:right;padding:1px\">+273.4%</td></tr><tr><th style=\"text-align:center;padding:1px;border-bottom:1px solid #bbbbbb\">1914 </th><td style=\"text-align:right;padding:1px;border-bottom:1px solid #bbbbbb\">1 575 814</td><td style=\"text-align:right;padding:1px;border-bottom:1px solid #bbbbbb\">+137.4%</td></tr><tr><th style=\"text-align:center;padding:1px\">1947 </th><td style=\"text-align:right;padding:1px\">2 981 043</td><td style=\"text-align:right;padding:1px\">+89.2%</td></tr><tr><th style=\"text-align:center;padding:1px\">1960 </th><td style=\"text-align:right;padding:1px\">2 966 634</td><td style=\"text-align:right;padding:1px\">−0.5%</td></tr><tr><th style=\"text-align:center;padding:1px\">1970 </th><td style=\"text-align:right;padding:1px\">2 972 453</td><td style=\"text-align:right;padding:1px\">+0.2%</td></tr><tr><th style=\"text-align:center;padding:1px\">1980 </th><td style=\"text-align:right;padding:1px\">2 922 829</td><td style=\"text-align:right;padding:1px\">−1.7%</td></tr><tr><th style=\"text-align:center;padding:1px;border-bottom:1px solid #bbbbbb\">1991 </th><td style=\"text-align:right;padding:1px;border-bottom:1px solid #bbbbbb\">2 965 403</td><td style=\"text-align:right;padding:1px;border-bottom:1px solid #bbbbbb\">+1.5%</td></tr><tr><th style=\"text-align:center;padding:1px\">2001 </th><td style=\"text-align:right;padding:1px\">2 776 138</td><td style=\"text-align:right;padding:1px\">−6.4%</td></tr><tr><th style=\"text-align:center;padding:1px\">2010 </th><td style=\"text-align:right;padding:1px\">2 890 151</td><td style=\"text-align:right;padding:1px\">+4.1%</td></tr><tr><th style=\"text-align:center;padding:1px\">2022 </th><td style=\"text-align:right;padding:1px\">3 121 707</td><td style=\"text-align:right;padding:1px\">+8.0%</td></tr></tbody></table>"
      ]
     },
     "execution_count": 30,
     "metadata": {},
     "output_type": "execute_result"
    }
   ],
   "source": [
    "target_table"
   ]
  },
  {
   "cell_type": "markdown",
   "metadata": {},
   "source": [
    "Luego, la información contenida en la variable target es recuperada y se guarda en un DataFrame de Pandas."
   ]
  },
  {
   "cell_type": "code",
   "execution_count": 40,
   "metadata": {},
   "outputs": [
    {
     "name": "stdout",
     "output_type": "stream",
     "text": [
      "Ya se guardó el dataframe\n"
     ]
    }
   ],
   "source": [
    "# Comprobamos si se encontró la tabla\n",
    "if target_table:\n",
    "    # Creamos listas para almacenar las columnas de la tabla\n",
    "    anios = []  \n",
    "    poblaciones = []  \n",
    "    cambios = [] \n",
    "    \n",
    "    # Inicializamos una variable para almacenar el año actual\n",
    "    anio_actual = None\n",
    "    \n",
    "    # Iteramos a través de las filas de la tabla\n",
    "    for row in target_table.find_all(\"tr\"):\n",
    "        # Buscamos tanto en th (encabezados) como en td (celdas de datos)\n",
    "        columns = row.find_all([\"th\", \"td\"])  \n",
    "        \n",
    "        # Comprobamos si la fila tiene tres columnas (Año, Población y Cambio porcentual)\n",
    "        if len(columns) == 3:\n",
    "            anio_actual = columns[0].get_text(strip=True)  # Obtenemos el año\n",
    "            poblacion = columns[1].get_text(strip=True)  # Obtenemos la población\n",
    "            cambio = columns[2].get_text(strip=True)  # Obtenemos el cambio porcentual\n",
    "            anios.append(anio_actual)  # Agregamos el año a la lista anios\n",
    "            poblaciones.append(poblacion)  # Agregamos la población a la lista poblaciones\n",
    "            cambios.append(cambio)  # Agregamos el cambio porcentual a la lista cambios\n",
    "        elif len(columns) == 2 and anio_actual:\n",
    "            # Si la fila tiene dos columnas y ya tenemos el año actual, \n",
    "            # Asumimos que es la población y el cambio porcentual\n",
    "            poblacion = columns[0].get_text(strip=True)  # Obtiene la población\n",
    "            cambio = columns[1].get_text(strip=True)  # Obtiene el cambio porcentual\n",
    "            poblaciones.append(poblacion)  # Agrega la población a la lista poblaciones\n",
    "            cambios.append(cambio)  # Agrega el cambio porcentual a la lista cambios\n",
    "    \n",
    "    # Se crea un DataFrame de Pandas con los datos extraídos\n",
    "    df_CABA = pd.DataFrame({\"Año\": anios, \"Población\": poblaciones, \"Cambio porcentual\": cambios})\n",
    "    \n",
    "    print(\"Ya se guardó el dataframe\")\n",
    "else:\n",
    "    print(\"No se encontró la tabla deseada en la página.\")"
   ]
  },
  {
   "cell_type": "code",
   "execution_count": 41,
   "metadata": {},
   "outputs": [
    {
     "data": {
      "text/html": [
       "<div>\n",
       "<style scoped>\n",
       "    .dataframe tbody tr th:only-of-type {\n",
       "        vertical-align: middle;\n",
       "    }\n",
       "\n",
       "    .dataframe tbody tr th {\n",
       "        vertical-align: top;\n",
       "    }\n",
       "\n",
       "    .dataframe thead th {\n",
       "        text-align: right;\n",
       "    }\n",
       "</style>\n",
       "<table border=\"1\" class=\"dataframe\">\n",
       "  <thead>\n",
       "    <tr style=\"text-align: right;\">\n",
       "      <th></th>\n",
       "      <th>Año</th>\n",
       "      <th>Población</th>\n",
       "      <th>Cambio porcentual</th>\n",
       "    </tr>\n",
       "  </thead>\n",
       "  <tbody>\n",
       "    <tr>\n",
       "      <th>0</th>\n",
       "      <td>Año</td>\n",
       "      <td>Pob.</td>\n",
       "      <td>±%</td>\n",
       "    </tr>\n",
       "    <tr>\n",
       "      <th>1</th>\n",
       "      <td>1779</td>\n",
       "      <td>24 205</td>\n",
       "      <td>—</td>\n",
       "    </tr>\n",
       "    <tr>\n",
       "      <th>2</th>\n",
       "      <td>1810</td>\n",
       "      <td>44 800</td>\n",
       "      <td>+85.1%</td>\n",
       "    </tr>\n",
       "    <tr>\n",
       "      <th>3</th>\n",
       "      <td>1869</td>\n",
       "      <td>177 797</td>\n",
       "      <td>+296.9%</td>\n",
       "    </tr>\n",
       "    <tr>\n",
       "      <th>4</th>\n",
       "      <td>1895</td>\n",
       "      <td>663 854</td>\n",
       "      <td>+273.4%</td>\n",
       "    </tr>\n",
       "    <tr>\n",
       "      <th>5</th>\n",
       "      <td>1914</td>\n",
       "      <td>1 575 814</td>\n",
       "      <td>+137.4%</td>\n",
       "    </tr>\n",
       "    <tr>\n",
       "      <th>6</th>\n",
       "      <td>1947</td>\n",
       "      <td>2 981 043</td>\n",
       "      <td>+89.2%</td>\n",
       "    </tr>\n",
       "    <tr>\n",
       "      <th>7</th>\n",
       "      <td>1960</td>\n",
       "      <td>2 966 634</td>\n",
       "      <td>−0.5%</td>\n",
       "    </tr>\n",
       "    <tr>\n",
       "      <th>8</th>\n",
       "      <td>1970</td>\n",
       "      <td>2 972 453</td>\n",
       "      <td>+0.2%</td>\n",
       "    </tr>\n",
       "    <tr>\n",
       "      <th>9</th>\n",
       "      <td>1980</td>\n",
       "      <td>2 922 829</td>\n",
       "      <td>−1.7%</td>\n",
       "    </tr>\n",
       "    <tr>\n",
       "      <th>10</th>\n",
       "      <td>1991</td>\n",
       "      <td>2 965 403</td>\n",
       "      <td>+1.5%</td>\n",
       "    </tr>\n",
       "    <tr>\n",
       "      <th>11</th>\n",
       "      <td>2001</td>\n",
       "      <td>2 776 138</td>\n",
       "      <td>−6.4%</td>\n",
       "    </tr>\n",
       "    <tr>\n",
       "      <th>12</th>\n",
       "      <td>2010</td>\n",
       "      <td>2 890 151</td>\n",
       "      <td>+4.1%</td>\n",
       "    </tr>\n",
       "    <tr>\n",
       "      <th>13</th>\n",
       "      <td>2022</td>\n",
       "      <td>3 121 707</td>\n",
       "      <td>+8.0%</td>\n",
       "    </tr>\n",
       "  </tbody>\n",
       "</table>\n",
       "</div>"
      ],
      "text/plain": [
       "     Año  Población Cambio porcentual\n",
       "0    Año       Pob.                ±%\n",
       "1   1779     24 205                 —\n",
       "2   1810     44 800            +85.1%\n",
       "3   1869    177 797           +296.9%\n",
       "4   1895    663 854           +273.4%\n",
       "5   1914  1 575 814           +137.4%\n",
       "6   1947  2 981 043            +89.2%\n",
       "7   1960  2 966 634             −0.5%\n",
       "8   1970  2 972 453             +0.2%\n",
       "9   1980  2 922 829             −1.7%\n",
       "10  1991  2 965 403             +1.5%\n",
       "11  2001  2 776 138             −6.4%\n",
       "12  2010  2 890 151             +4.1%\n",
       "13  2022  3 121 707             +8.0%"
      ]
     },
     "execution_count": 41,
     "metadata": {},
     "output_type": "execute_result"
    }
   ],
   "source": [
    "df_CABA"
   ]
  },
  {
   "cell_type": "markdown",
   "metadata": {},
   "source": [
    "\n",
    "El DataFrame resultante necesita algunos ajustes. Para iniciar, la primera fila, que corresponde al encabezado de la tabla, debe ser eliminada. Además, se procederá a eliminar la columna \"Cambio porcentual\", ya que no será utilizada. Por último, se realizará la eliminación de los espacios utilizados para separar miles en las cantidades de la columna de población."
   ]
  },
  {
   "cell_type": "code",
   "execution_count": 42,
   "metadata": {},
   "outputs": [
    {
     "data": {
      "text/html": [
       "<div>\n",
       "<style scoped>\n",
       "    .dataframe tbody tr th:only-of-type {\n",
       "        vertical-align: middle;\n",
       "    }\n",
       "\n",
       "    .dataframe tbody tr th {\n",
       "        vertical-align: top;\n",
       "    }\n",
       "\n",
       "    .dataframe thead th {\n",
       "        text-align: right;\n",
       "    }\n",
       "</style>\n",
       "<table border=\"1\" class=\"dataframe\">\n",
       "  <thead>\n",
       "    <tr style=\"text-align: right;\">\n",
       "      <th></th>\n",
       "      <th>Año</th>\n",
       "      <th>Población</th>\n",
       "    </tr>\n",
       "  </thead>\n",
       "  <tbody>\n",
       "    <tr>\n",
       "      <th>1</th>\n",
       "      <td>1779</td>\n",
       "      <td>24205</td>\n",
       "    </tr>\n",
       "    <tr>\n",
       "      <th>2</th>\n",
       "      <td>1810</td>\n",
       "      <td>44800</td>\n",
       "    </tr>\n",
       "    <tr>\n",
       "      <th>3</th>\n",
       "      <td>1869</td>\n",
       "      <td>177797</td>\n",
       "    </tr>\n",
       "    <tr>\n",
       "      <th>4</th>\n",
       "      <td>1895</td>\n",
       "      <td>663854</td>\n",
       "    </tr>\n",
       "    <tr>\n",
       "      <th>5</th>\n",
       "      <td>1914</td>\n",
       "      <td>1575814</td>\n",
       "    </tr>\n",
       "    <tr>\n",
       "      <th>6</th>\n",
       "      <td>1947</td>\n",
       "      <td>2981043</td>\n",
       "    </tr>\n",
       "    <tr>\n",
       "      <th>7</th>\n",
       "      <td>1960</td>\n",
       "      <td>2966634</td>\n",
       "    </tr>\n",
       "    <tr>\n",
       "      <th>8</th>\n",
       "      <td>1970</td>\n",
       "      <td>2972453</td>\n",
       "    </tr>\n",
       "    <tr>\n",
       "      <th>9</th>\n",
       "      <td>1980</td>\n",
       "      <td>2922829</td>\n",
       "    </tr>\n",
       "    <tr>\n",
       "      <th>10</th>\n",
       "      <td>1991</td>\n",
       "      <td>2965403</td>\n",
       "    </tr>\n",
       "    <tr>\n",
       "      <th>11</th>\n",
       "      <td>2001</td>\n",
       "      <td>2776138</td>\n",
       "    </tr>\n",
       "    <tr>\n",
       "      <th>12</th>\n",
       "      <td>2010</td>\n",
       "      <td>2890151</td>\n",
       "    </tr>\n",
       "    <tr>\n",
       "      <th>13</th>\n",
       "      <td>2022</td>\n",
       "      <td>3121707</td>\n",
       "    </tr>\n",
       "  </tbody>\n",
       "</table>\n",
       "</div>"
      ],
      "text/plain": [
       "     Año  Población\n",
       "1   1779      24205\n",
       "2   1810      44800\n",
       "3   1869     177797\n",
       "4   1895     663854\n",
       "5   1914    1575814\n",
       "6   1947    2981043\n",
       "7   1960    2966634\n",
       "8   1970    2972453\n",
       "9   1980    2922829\n",
       "10  1991    2965403\n",
       "11  2001    2776138\n",
       "12  2010    2890151\n",
       "13  2022    3121707"
      ]
     },
     "execution_count": 42,
     "metadata": {},
     "output_type": "execute_result"
    }
   ],
   "source": [
    "# Eliminamos la primer fila\n",
    "df_CABA = df_CABA.iloc[1:]\n",
    "# Eliminamos la columna Cambio porcentual\n",
    "df_CABA = df_CABA.drop(\"Cambio porcentual\", axis=1)\n",
    "# Sacamos los espacios de separación de miles\n",
    "df_CABA[\"Población\"] = df_CABA[\"Población\"].str.replace(\" \", \"\").str.replace(\"\\xa0\", \"\").astype(int)\n",
    "df_CABA"
   ]
  },
  {
   "cell_type": "code",
   "execution_count": 43,
   "metadata": {},
   "outputs": [
    {
     "data": {
      "text/html": [
       "<div>\n",
       "<style scoped>\n",
       "    .dataframe tbody tr th:only-of-type {\n",
       "        vertical-align: middle;\n",
       "    }\n",
       "\n",
       "    .dataframe tbody tr th {\n",
       "        vertical-align: top;\n",
       "    }\n",
       "\n",
       "    .dataframe thead th {\n",
       "        text-align: right;\n",
       "    }\n",
       "</style>\n",
       "<table border=\"1\" class=\"dataframe\">\n",
       "  <thead>\n",
       "    <tr style=\"text-align: right;\">\n",
       "      <th></th>\n",
       "      <th>nombre_campo</th>\n",
       "      <th>tipo_datos</th>\n",
       "    </tr>\n",
       "  </thead>\n",
       "  <tbody>\n",
       "    <tr>\n",
       "      <th>0</th>\n",
       "      <td>Año</td>\n",
       "      <td>[&lt;class 'str'&gt;]</td>\n",
       "    </tr>\n",
       "    <tr>\n",
       "      <th>1</th>\n",
       "      <td>Población</td>\n",
       "      <td>[&lt;class 'int'&gt;]</td>\n",
       "    </tr>\n",
       "  </tbody>\n",
       "</table>\n",
       "</div>"
      ],
      "text/plain": [
       "  nombre_campo       tipo_datos\n",
       "0          Año  [<class 'str'>]\n",
       "1    Población  [<class 'int'>]"
      ]
     },
     "execution_count": 43,
     "metadata": {},
     "output_type": "execute_result"
    }
   ],
   "source": [
    "#Verificamos los tipos de datos de cada columna\n",
    "tools.ver_variables(df_CABA)"
   ]
  },
  {
   "cell_type": "markdown",
   "metadata": {},
   "source": [
    "### Carga de datos limpios"
   ]
  },
  {
   "cell_type": "code",
   "execution_count": 44,
   "metadata": {},
   "outputs": [
    {
     "name": "stdout",
     "output_type": "stream",
     "text": [
      "Se guardó el archivo poblacion_CABA.csv\n"
     ]
    }
   ],
   "source": [
    "file = \"poblacion_CABA.csv\"\n",
    "df_CABA.to_csv(file, index=False, encoding=\"utf-8\")\n",
    "print(f\"Se guardó el archivo {file}\")"
   ]
  }
 ],
 "metadata": {
  "kernelspec": {
   "display_name": "Python 3",
   "language": "python",
   "name": "python3"
  },
  "language_info": {
   "codemirror_mode": {
    "name": "ipython",
    "version": 3
   },
   "file_extension": ".py",
   "mimetype": "text/x-python",
   "name": "python",
   "nbconvert_exporter": "python",
   "pygments_lexer": "ipython3",
   "version": "3.11.5"
  }
 },
 "nbformat": 4,
 "nbformat_minor": 2
}
